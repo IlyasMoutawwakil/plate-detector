{
 "cells": [
  {
   "cell_type": "code",
   "execution_count": 1,
   "metadata": {},
   "outputs": [],
   "source": [
    "import csv\n",
    "import subprocess\n",
    "import os\n",
    "from tqdm import tqdm\n",
    "import multiprocessing\n",
    "from multiprocessing import Pool as thread_pool"
   ]
  },
  {
   "cell_type": "code",
   "execution_count": 4,
   "metadata": {},
   "outputs": [],
   "source": [
    "ROOT_DIR = '/plate-detector/'\n",
    "DATA_DIR = ROOT_DIR +'/data/OPEN_IMAGES_DATASET/'\n",
    "\n",
    "cpu_count = multiprocessing.cpu_count()\n",
    "nthreads = cpu_count*2\n",
    "occluded = 1 # Include occluded images\n",
    "truncated = 1 # Include truncated images\n",
    "groupOf = 1 # Include groupOf images\n",
    "depiction = 1 # Include depiction images\n",
    "inside = 1 # Include inside images\n",
    "mode = 'validation' # Dataset category - train, validation or test\n",
    "run_mode = DATA_DIR + mode\n",
    "classes = ['Vehicle_registration_plate'] # Names of object classes to be downloaded"
   ]
  },
  {
   "cell_type": "code",
   "execution_count": 5,
   "metadata": {},
   "outputs": [
    {
     "name": "stdout",
     "output_type": "stream",
     "text": [
      "Class 0 : Vehicle_registration_plate\n"
     ]
    },
    {
     "name": "stderr",
     "output_type": "stream",
     "text": [
      "\r",
      "  0%|          | 0/386 [00:00<?, ?it/s]"
     ]
    },
    {
     "name": "stdout",
     "output_type": "stream",
     "text": [
      "Annotation Count : 512\n",
      "Number of images to be downloaded : 386\n"
     ]
    },
    {
     "name": "stderr",
     "output_type": "stream",
     "text": [
      "100%|██████████| 386/386 [08:37<00:00,  1.34s/it]\n"
     ]
    },
    {
     "name": "stdout",
     "output_type": "stream",
     "text": [
      "386.0 images were downloaded\n"
     ]
    }
   ],
   "source": [
    "with open(DATA_DIR + 'class-descriptions-boxable.csv', mode='r') as infile:\n",
    "    reader = csv.reader(infile)\n",
    "    dict_list = {rows[1]:rows[0] for rows in reader}\n",
    "\n",
    "subprocess.run(['rm', '-rf', run_mode])\n",
    "subprocess.run([ 'mkdir', run_mode])\n",
    "\n",
    "pool = thread_pool(nthreads)\n",
    "commands = []\n",
    "cnt = 0\n",
    "\n",
    "for ind in range(0, len(classes)):\n",
    "    \n",
    "    class_name = classes[ind]\n",
    "    print(\"Class \"+str(ind) + \" : \" + class_name)\n",
    "    \n",
    "    subprocess.run([ 'mkdir', run_mode+'/'+class_name])\n",
    "\n",
    "    command = \"grep \"+dict_list[class_name.replace('_', ' ')] + \" \" + run_mode + \"-annotations-bbox.csv\"\n",
    "    class_annotations = subprocess.run(command.split(), stdout=subprocess.PIPE).stdout.decode('utf-8')\n",
    "    class_annotations = class_annotations.splitlines()\n",
    "\n",
    "    for line in class_annotations:\n",
    "\n",
    "        line_parts = line.split(',')\n",
    "        \n",
    "        #IsOccluded,IsTruncated,IsGroupOf,IsDepiction,IsInside\n",
    "        if (occluded==0 and int(line_parts[8])>0):\n",
    "            print(\"Skipped %s\",line_parts[0])\n",
    "            continue\n",
    "        if (truncated==0 and int(line_parts[9])>0):\n",
    "            print(\"Skipped %s\",line_parts[0])\n",
    "            continue\n",
    "        if (groupOf==0 and int(line_parts[10])>0):\n",
    "            print(\"Skipped %s\",line_parts[0])\n",
    "            continue\n",
    "        if (depiction==0 and int(line_parts[11])>0):\n",
    "            print(\"Skipped %s\",line_parts[0])\n",
    "            continue\n",
    "        if (inside==0 and int(line_parts[12])>0):\n",
    "            print(\"Skipped %s\",line_parts[0])\n",
    "            continue\n",
    "\n",
    "        cnt = cnt + 1\n",
    "        command = 'aws s3 --no-sign-request --only-show-errors cp s3://open-images-dataset/'+mode+'/'+line_parts[0]+'.jpg '+ run_mode+'/'+class_name+'/'+line_parts[0]+'.jpg'\n",
    "        commands.append(command)\n",
    "        \n",
    "        with open('%s/%s/%s.txt'%(run_mode,class_name,line_parts[0]),'a') as f:\n",
    "            f.write(','.join([class_name, line_parts[4], line_parts[5], line_parts[6], line_parts[7]])+'\\n')\n",
    "\n",
    "print(\"Annotation Count : \"+str(cnt))\n",
    "commands = list(set(commands))\n",
    "print(\"Number of images to be downloaded : \"+str(len(commands)))\n",
    "\n",
    "list(tqdm(pool.imap(os.system, commands), total = len(commands) ))\n",
    "\n",
    "pool.close()\n",
    "pool.join()\n",
    "\n",
    "print(len(os.listdir(DATA_DIR + mode + '/' + classes[0]))/2, 'images were downloaded')"
   ]
  },
  {
   "cell_type": "code",
   "execution_count": null,
   "metadata": {},
   "outputs": [],
   "source": []
  }
 ],
 "metadata": {
  "kernelspec": {
   "display_name": "Python 3",
   "language": "python",
   "name": "python3"
  },
  "language_info": {
   "codemirror_mode": {
    "name": "ipython",
    "version": 3
   },
   "file_extension": ".py",
   "mimetype": "text/x-python",
   "name": "python",
   "nbconvert_exporter": "python",
   "pygments_lexer": "ipython3",
   "version": "3.6.7"
  }
 },
 "nbformat": 4,
 "nbformat_minor": 2
}