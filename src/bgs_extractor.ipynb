{
 "cells": [
  {
   "cell_type": "code",
   "execution_count": 2,
   "metadata": {},
   "outputs": [],
   "source": [
    "import os\n",
    "import sys\n",
    "import cv2\n",
    "import numpy"
   ]
  },
  {
   "cell_type": "code",
   "execution_count": 3,
   "metadata": {},
   "outputs": [],
   "source": [
    "ROOT_DIR = 'C:/Users/utilisateur/Desktop/AS/Automatants/Yolo/'\n",
    "ARCHIVE_INPUT = ROOT_DIR + 'negs/'\n",
    "ARCHIVE_OUTPUT = ROOT_DIR + 'bgs/'"
   ]
  },
  {
   "cell_type": "code",
   "execution_count": 4,
   "metadata": {},
   "outputs": [],
   "source": [
    "def extract_backgrounds(archive_input, archive_output):\n",
    "    '''Une fonction pour indexer les données de SUN et changer leurs extension en .jpg afin de réduire la taille de ces dernier'''\n",
    "    index = 0\n",
    "    for img in os.listdir(archive_input) :\n",
    "        im = cv2.imread(archive_input  + img)\n",
    "        fname = archive_output  + '{:08}.jpg'.format(index)\n",
    "        cv2.imwrite(fname, im)\n",
    "        index += 1"
   ]
  },
  {
   "cell_type": "code",
   "execution_count": 5,
   "metadata": {},
   "outputs": [],
   "source": [
    "extract_backgrounds(ARCHIVE_INPUT, ARCHIVE_OUTPUT)"
   ]
  },
  {
   "cell_type": "code",
   "execution_count": null,
   "metadata": {},
   "outputs": [],
   "source": []
  }
 ],
 "metadata": {
  "kernelspec": {
   "display_name": "Python 3",
   "language": "python",
   "name": "python3"
  },
  "language_info": {
   "codemirror_mode": {
    "name": "ipython",
    "version": 3
   },
   "file_extension": ".py",
   "mimetype": "text/x-python",
   "name": "python",
   "nbconvert_exporter": "python",
   "pygments_lexer": "ipython3",
   "version": "3.7.3"
  }
 },
 "nbformat": 4,
 "nbformat_minor": 1
}
