{
 "cells": [
  {
   "cell_type": "code",
   "execution_count": 7,
   "metadata": {},
   "outputs": [],
   "source": [
    "import csv\n",
    "import cv2\n",
    "import os\n",
    "import numpy as np\n",
    "import matplotlib.pyplot as plt\n",
    "%matplotlib inline"
   ]
  },
  {
   "cell_type": "code",
   "execution_count": 8,
   "metadata": {},
   "outputs": [],
   "source": [
    "ROOT_DIR = 'C:/Users/utilisateur/Documents/GitHub/plate-detector/'\n",
    "\n",
    "GEN_IMGS_DIR = ROOT_DIR +'data/GENERATED_DATASET/imgs/'\n",
    "GEN_ANNS_DIR = ROOT_DIR +'data/GENERATED_DATASET/anns/'\n",
    "\n",
    "REAL_IMGS_DIR = ROOT_DIR +'data/MIXED_DATASET/imgs/'\n",
    "REAL_ANNS_DIR = ROOT_DIR +'data/MIXED_DATASET/anns/'"
   ]
  },
  {
   "cell_type": "code",
   "execution_count": 10,
   "metadata": {},
   "outputs": [],
   "source": [
    "def data_quality(imgs_dir) :\n",
    "    print(\"Calcul de la moyenne, la variance et le coefficient de variation ...\")\n",
    "    mean = 0\n",
    "    std = 0\n",
    "    length = 0\n",
    "    images = os.listdir(imgs_dir)\n",
    "    for i, path in enumerate(images):\n",
    "        sum_ = np.mean(cv2.imread(imgs_dir + path))\n",
    "        length += 1\n",
    "        mean_next = mean + (sum_ - mean) / length\n",
    "        std += (sum_ - mean) * (sum_ - mean_next)\n",
    "        mean = mean_next\n",
    "    std = np.sqrt(std / (length - 1))\n",
    "\n",
    "    print(\"Moyenne : {}\".format(mean))\n",
    "    print(\"Variance : {}\".format(std))\n",
    "    print(\"Coeficient de cariation : {}\".format(mean/std))\n",
    "    print(\"Terminé!\")"
   ]
  },
  {
   "cell_type": "code",
   "execution_count": 11,
   "metadata": {},
   "outputs": [
    {
     "name": "stdout",
     "output_type": "stream",
     "text": [
      "Calcul de la moyenne, la variance et le coefficient de variation ...\n",
      "Moyenne : 123.67296023697945\n",
      "Variance : 35.542703419454895\n",
      "Coeficient de cariation : 3.479559750350475\n",
      "Terminé!\n"
     ]
    }
   ],
   "source": [
    "# Evaluation de la qualité des données\n",
    "data_quality(GEN_IMGS_DIR)"
   ]
  },
  {
   "cell_type": "code",
   "execution_count": 78,
   "metadata": {},
   "outputs": [],
   "source": [
    "def data_center_position(anns_dir, imgs_dir) :\n",
    "    all_imgs, seen_labels = parse_annotation(anns_dir, imgs_dir)\n",
    "    X = []\n",
    "    Y = []\n",
    "    for i in range(len(all_imgs)):\n",
    "        img = cv2.imread(all_imgs[i]['file_name'])\n",
    "        img = cv2.cvtColor(img, cv2.COLOR_BGR2RGB)\n",
    "        for j in range(1) :\n",
    "            x = (all_imgs[i]['object'][j]['xmin'] + all_imgs[i]['object'][j]['xmax']) / (2 * all_imgs[i]['width'])\n",
    "            y = (all_imgs[i]['object'][j]['ymin'] + all_imgs[i]['object'][j]['ymax']) / (2 * all_imgs[i]['height'])\n",
    "            X += [x]\n",
    "            Y += [y]\n",
    "    return X, Y\n",
    "\n",
    "def parse_annotation(anns_dir, imgs_dir):\n",
    "    all_imgs = []\n",
    "    seen_labels = {}\n",
    "    for img_ in sorted(os.listdir(imgs_dir)):\n",
    "        # Problème posé par Jupyter\n",
    "        if img_ == '.ipynb_checkpoints':\n",
    "            continue\n",
    "        \n",
    "        img = {'object' : []}\n",
    "        img_name = imgs_dir + img_\n",
    "        ann_name = anns_dir + img_[:-3] + 'txt'\n",
    "        \n",
    "        img['file_name'] = img_name\n",
    "        with open(ann_name, mode = 'r') as file:\n",
    "            for line in file:\n",
    "                obj = {'name' : ''} # {'name' : '', 'ymin' : , 'xmin' : , 'ymax' : , 'xmax' : }\n",
    "                name, ymin, xmin, ymax, xmax, height, width = line[:-1].split(',')\n",
    "                obj['name'] = name\n",
    "                obj['ymin'], obj['xmin'], obj['ymax'], obj['xmax'] = int(ymin), int(xmin), int(ymax), int(xmax)\n",
    "                img['height'], img['width'] = int(height), int(width)\n",
    "                img['object'] += [obj] # {'object' : [{'name' : 'Plaque', .. coordonnées ..} ], 'height' : , 'width' : }\n",
    "\n",
    "                if not obj['name'] in seen_labels:\n",
    "                    seen_labels[obj['name']] = 1\n",
    "                else:\n",
    "                    seen_labels[obj['name']] += 1\n",
    "    \n",
    "        all_imgs += [img]\n",
    "    return all_imgs, seen_labels"
   ]
  },
  {
   "cell_type": "code",
   "execution_count": 79,
   "metadata": {},
   "outputs": [],
   "source": [
    "REAL_X, REAL_Y = data_center_position(REAL_ANNS_DIR, REAL_IMGS_DIR)\n",
    "GEN_X, GEN_Y = data_center_position(GEN_ANNS_DIR, GEN_IMGS_DIR)"
   ]
  },
  {
   "cell_type": "code",
   "execution_count": 80,
   "metadata": {},
   "outputs": [
    {
     "data": {
      "text/plain": [
       "<matplotlib.collections.PathCollection at 0x7f9756a23f28>"
      ]
     },
     "execution_count": 80,
     "metadata": {},
     "output_type": "execute_result"
    },
    {
     "data": {
      "image/png": "[encoded data removed]",
      "text/plain": [
       "<Figure size 1152x288 with 2 Axes>"
      ]
     },
     "execution_count": 80,
     "metadata": {
      "needs_background": "light"
     },
     "output_type": "execute_result"
    }
   ],
   "source": [
    "figure = plt.figure(figsize = (16, 4))\n",
    "\n",
    "axes = figure.add_subplot(1, 2, 1)\n",
    "axes.set_xlabel('Position relative à x')\n",
    "axes.set_ylabel('Position relative à y')\n",
    "axes.set_title('Données Réelles')\n",
    "plt.scatter(REAL_X, REAL_Y, s=10, c='b', marker='*', label='real')\n",
    "axes = figure.add_subplot(1, 2, 2)\n",
    "axes.set_xlabel('Position relative à x')\n",
    "axes.set_ylabel('Position relative à y')\n",
    "axes.set_title('Données Générées')\n",
    "plt.scatter(GEN_X, GEN_Y, s=15, c='g', marker='*', label='gen')"
   ]
  },
  {
   "cell_type": "code",
   "execution_count": 0,
   "metadata": {},
   "outputs": [],
   "source": []
  }
 ],
 "metadata": {
  "kernelspec": {
   "display_name": "Python 3",
   "language": "python",
   "name": "python3"
  },
  "language_info": {
   "codemirror_mode": {
    "name": "ipython",
    "version": 3
   },
   "file_extension": ".py",
   "mimetype": "text/x-python",
   "name": "python",
   "nbconvert_exporter": "python",
   "pygments_lexer": "ipython3",
   "version": "3.7.3"
  }
 },
 "nbformat": 4,
 "nbformat_minor": 1
}
