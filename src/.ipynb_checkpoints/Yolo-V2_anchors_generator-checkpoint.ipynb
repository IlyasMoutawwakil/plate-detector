{
 "cells": [
  {
   "cell_type": "code",
   "execution_count": 1,
   "metadata": {},
   "outputs": [],
   "source": [
    "ROOT_DIR = 'C:/Users/utilisateur/Documents/GitHub/plate-detector/'\n",
    "DATA_DIR = ROOT_DIR + 'data/'\n",
    "DATASET = 'GENERATED_DATASET/'\n",
    "ANNS_DIR = DATA_DIR + DATASET + 'anns/'\n",
    "IMGS_DIR = DATA_DIR + DATASET + 'imgs/'\n",
    "ANCHORS_NUM = 9 # Pour YOLO_V2 on choisit 9\n",
    "MAX_DIM = 320"
   ]
  },
  {
   "cell_type": "code",
   "execution_count": 2,
   "metadata": {},
   "outputs": [],
   "source": [
    "from anchors_generator import *"
   ]
  },
  {
   "cell_type": "code",
   "execution_count": 3,
   "metadata": {},
   "outputs": [
    {
     "ename": "NameError",
     "evalue": "name 'MAX_DIM' is not defined",
     "output_type": "error",
     "traceback": [
      "\u001b[1;31m---------------------------------------------------------------------------\u001b[0m",
      "\u001b[1;31mNameError\u001b[0m                                 Traceback (most recent call last)",
      "\u001b[1;32m<ipython-input-3-6f1288271756>\u001b[0m in \u001b[0;36m<module>\u001b[1;34m\u001b[0m\n\u001b[1;32m----> 1\u001b[1;33m \u001b[0mcentroids\u001b[0m\u001b[1;33m,\u001b[0m \u001b[0mannotation_dims\u001b[0m \u001b[1;33m=\u001b[0m \u001b[0manchors_gen\u001b[0m\u001b[1;33m(\u001b[0m\u001b[0mANNS_DIR\u001b[0m\u001b[1;33m,\u001b[0m \u001b[0mANCHORS_NUM\u001b[0m\u001b[1;33m)\u001b[0m\u001b[1;33m\u001b[0m\u001b[1;33m\u001b[0m\u001b[0m\n\u001b[0m\u001b[0;32m      2\u001b[0m \u001b[0mprint\u001b[0m\u001b[1;33m(\u001b[0m\u001b[1;34m'\\La moyenne de IOU pour'\u001b[0m\u001b[1;33m,\u001b[0m \u001b[0mANCHORS_NUM\u001b[0m\u001b[1;33m,\u001b[0m \u001b[1;34m'anchors est :'\u001b[0m\u001b[1;33m,\u001b[0m \u001b[1;34m'%0.2f'\u001b[0m \u001b[1;33m%\u001b[0m \u001b[0mavg_IOU\u001b[0m\u001b[1;33m(\u001b[0m\u001b[0mannotation_dims\u001b[0m\u001b[1;33m,\u001b[0m \u001b[0mcentroids\u001b[0m\u001b[1;33m)\u001b[0m\u001b[1;33m)\u001b[0m\u001b[1;33m\u001b[0m\u001b[1;33m\u001b[0m\u001b[0m\n\u001b[0;32m      3\u001b[0m \u001b[0mprint_anchors\u001b[0m\u001b[1;33m(\u001b[0m\u001b[0mcentroids\u001b[0m\u001b[1;33m)\u001b[0m\u001b[1;33m\u001b[0m\u001b[1;33m\u001b[0m\u001b[0m\n",
      "\u001b[1;32m~\\Documents\\GitHub\\plate-detector\\src\\anchors_generator.py\u001b[0m in \u001b[0;36manchors_gen\u001b[1;34m(anns_dir, num_anchors)\u001b[0m\n\u001b[0;32m    114\u001b[0m \u001b[1;33m\u001b[0m\u001b[0m\n\u001b[0;32m    115\u001b[0m \u001b[1;33m\u001b[0m\u001b[0m\n\u001b[1;32m--> 116\u001b[1;33m     \u001b[0mgrid_w\u001b[0m \u001b[1;33m=\u001b[0m \u001b[0mMAX_DIM\u001b[0m\u001b[1;33m/\u001b[0m\u001b[1;36m19\u001b[0m \u001b[1;31m# n'affecte pas beaucoup les résultats (car trés grands)\u001b[0m\u001b[1;33m\u001b[0m\u001b[1;33m\u001b[0m\u001b[0m\n\u001b[0m\u001b[0;32m    117\u001b[0m     \u001b[0mgrid_h\u001b[0m \u001b[1;33m=\u001b[0m \u001b[0mMAX_DIM\u001b[0m\u001b[1;33m/\u001b[0m\u001b[1;36m19\u001b[0m \u001b[1;31m# mais c'est mieux d'utiliser 19 pour SqueezeNet et 39 pour MobileNet\u001b[0m\u001b[1;33m\u001b[0m\u001b[1;33m\u001b[0m\u001b[0m\n\u001b[0;32m    118\u001b[0m \u001b[1;33m\u001b[0m\u001b[0m\n",
      "\u001b[1;31mNameError\u001b[0m: name 'MAX_DIM' is not defined"
     ]
    }
   ],
   "source": [
    "centroids, annotation_dims = anchors_gen(ANNS_DIR, ANCHORS_NUM)\n",
    "print('\\La moyenne de IOU pour', ANCHORS_NUM, 'anchors est :', '%0.2f' % avg_IOU(annotation_dims, centroids))\n",
    "print_anchors(centroids)"
   ]
  },
  {
   "cell_type": "code",
   "execution_count": null,
   "metadata": {},
   "outputs": [],
   "source": []
  }
 ],
 "metadata": {
  "kernelspec": {
   "display_name": "Python 3",
   "language": "python",
   "name": "python3"
  },
  "language_info": {
   "codemirror_mode": {
    "name": "ipython",
    "version": 3
   },
   "file_extension": ".py",
   "mimetype": "text/x-python",
   "name": "python",
   "nbconvert_exporter": "python",
   "pygments_lexer": "ipython3",
   "version": "3.7.3"
  }
 },
 "nbformat": 4,
 "nbformat_minor": 1
}
