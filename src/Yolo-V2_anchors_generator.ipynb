{
 "cells": [
  {
   "cell_type": "code",
   "execution_count": 2,
   "metadata": {},
   "outputs": [],
   "source": [
    "ROOT_DIR = '/root/jupyter/'\n",
    "DATA_DIR = ROOT_DIR + 'Deep_Learning/data/'\n",
    "DATASET = 'GENERATED_DATASET/'\n",
    "ANNS_DIR = DATA_DIR + DATASET + 'anns/'\n",
    "IMGS_DIR = DATA_DIR + DATASET + 'imgs/'\n",
    "ANCHORS_NUM = 9 # Pour YOLO_V2 on choisit 9\n",
    "MAX_DIM = 320"
   ]
  },
  {
   "cell_type": "code",
   "execution_count": 3,
   "metadata": {},
   "outputs": [],
   "source": [
    "from anchors_generator import *"
   ]
  },
  {
   "cell_type": "code",
   "execution_count": 0,
   "metadata": {},
   "outputs": [
    {
     "name": "stdout",
     "output_type": "stream",
     "text": [
      "iteration 1: dists = 52515.9262242478\n",
      "iteration 2: dists = 3452.815362698374\n",
      "iteration 3: dists = 1255.8189187003472\n",
      "iteration 4: dists = 1126.7567884072516\n",
      "iteration 5: dists = 1074.7069630844323\n",
      "iteration 6: dists = 1053.4220756339764\n",
      "iteration 7: dists = 908.2424065258774\n",
      "iteration 8: dists = 809.1547737895993\n",
      "iteration 9: dists = 706.14308050567\n",
      "iteration 10: dists = 612.5739170713672\n",
      "iteration 11: dists = 528.4705190592325\n",
      "iteration 12: dists = 463.44873611340654\n",
      "iteration 13: dists = 407.5819533127101\n",
      "iteration 14: dists = 344.0246071747803\n",
      "iteration 15: dists = 331.84255523007243\n",
      "iteration 16: dists = 302.8659890319733\n",
      "iteration 17: dists = 233.73655222260265\n",
      "iteration 18: dists = 187.67337811740813\n",
      "iteration 19: dists = 186.25287151074838\n",
      "iteration 20: dists = 188.1045045321339\n",
      "iteration 21: dists = 161.681992193957\n",
      "iteration 22: dists = 151.50252231440967\n",
      "iteration 23: dists = 138.13856629369522\n",
      "iteration 24: dists = 144.36632473115893\n",
      "iteration 25: dists = 134.5584286618613\n",
      "iteration 26: dists = 112.77842148359804\n",
      "iteration 27: dists = 120.64145708864869\n",
      "iteration 28: dists = 112.26442970640146\n",
      "iteration 29: dists = 104.80869397201461\n",
      "iteration 30: dists = 97.53115535299912\n",
      "iteration 31: dists = 86.31618714248009\n",
      "iteration 32: dists = 80.18608761204898\n",
      "iteration 33: dists = 70.18310885749864\n",
      "iteration 34: dists = 66.97743739436532\n",
      "iteration 35: dists = 62.01493172615482\n",
      "iteration 36: dists = 58.17034484357306\n",
      "iteration 37: dists = 42.2710956355062\n",
      "iteration 38: dists = 51.51596579294138\n",
      "iteration 39: dists = 38.87610207101142\n",
      "iteration 40: dists = 32.23206304495073\n",
      "iteration 41: dists = 21.65450398628038\n",
      "iteration 42: dists = 26.27281578280937\n",
      "iteration 43: dists = 22.273511112009842\n",
      "iteration 44: dists = 26.439709762930622\n",
      "iteration 45: dists = 20.957130542153006\n",
      "iteration 46: dists = 16.893822584443313\n",
      "iteration 47: dists = 20.31519605438489\n",
      "iteration 48: dists = 3.9982147779233355\n",
      "iteration 49: dists = 5.801996417030034\n",
      "iteration 50: dists = 6.689662372130321\n",
      "iteration 51: dists = 12.015392883400171\n",
      "iteration 52: dists = 18.108330121313212\n",
      "iteration 53: dists = 22.314079686595306\n",
      "iteration 54: dists = 18.137069671258544\n",
      "iteration 55: dists = 6.568878273731121\n",
      "iteration 56: dists = 12.296719185021926\n",
      "iteration 57: dists = 10.007545956649713\n",
      "iteration 58: dists = 18.458771815232264\n",
      "iteration 59: dists = 14.000908324541236\n",
      "iteration 60: dists = 10.551425085623366\n",
      "iteration 61: dists = 18.93724199588106\n",
      "iteration 62: dists = 10.597191422240082\n",
      "iteration 63: dists = 14.209823076211531\n",
      "iteration 64: dists = 17.620140652867306\n",
      "iteration 65: dists = 14.069491722660294\n",
      "iteration 66: dists = 10.591199902249437\n",
      "iteration 67: dists = 9.203060770071666\n",
      "iteration 68: dists = 8.341641535854437\n",
      "iteration 69: dists = 5.428621676631941\n"
     ]
    }
   ],
   "source": [
    "centroids, annotation_dims = anchors_gen(ANNS_DIR, ANCHORS_NUM)\n",
    "print('\\La moyenne de IOU pour', ANCHORS_NUM, 'anchors est :', '%0.2f' % avg_IOU(annotation_dims, centroids))\n",
    "print_anchors(centroids)"
   ]
  },
  {
   "cell_type": "code",
   "execution_count": 0,
   "metadata": {},
   "outputs": [],
   "source": []
  }
 ],
 "metadata": {
  "kernelspec": {
   "display_name": "Python 3",
   "language": "python",
   "name": "python3"
  },
  "language_info": {
   "codemirror_mode": {
    "name": "ipython",
    "version": 3
   },
   "file_extension": ".py",
   "mimetype": "text/x-python",
   "name": "python",
   "nbconvert_exporter": "python",
   "pygments_lexer": "ipython3",
   "version": "3.7.3"
  }
 },
 "nbformat": 4,
 "nbformat_minor": 1
}
