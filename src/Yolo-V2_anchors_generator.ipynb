<<<<<<< HEAD
{
 "cells": [
  {
   "cell_type": "code",
   "execution_count": 1,
   "metadata": {},
   "outputs": [],
   "source": [
    "ROOT_DIR = 'C:/Users/utilisateur/Documents/GitHub/plate-detector/'\n",
    "DATA_DIR = ROOT_DIR + 'data/'\n",
    "DATASET = 'GENERATED_DATASET/'\n",
    "ANNS_DIR = DATA_DIR + DATASET + 'anns/'\n",
    "IMGS_DIR = DATA_DIR + DATASET + 'imgs/'\n",
    "ANCHORS_NUM = 9 # Pour YOLO_V2 on choisit 9\n",
    "MAX_DIM = 320"
   ]
  },
  {
   "cell_type": "code",
   "execution_count": 2,
   "metadata": {},
   "outputs": [],
   "source": [
    "from anchors_generator import *"
   ]
  },
  {
   "cell_type": "code",
   "execution_count": 3,
   "metadata": {},
   "outputs": [
    {
     "name": "stdout",
     "output_type": "stream",
     "text": [
      "itération 1: distances = 46208.125845578485\n",
      "itération 2: distances = 4299.874385860824\n",
      "itération 3: distances = 1882.9445301705396\n",
      "itération 4: distances = 1229.0033701695763\n",
      "itération 5: distances = 544.874049643236\n",
      "itération 6: distances = 388.3276217830273\n",
      "itération 7: distances = 276.51532240428526\n",
      "itération 8: distances = 233.83719903889144\n",
      "itération 9: distances = 193.9085249254996\n",
      "itération 10: distances = 154.9363532679176\n",
      "itération 11: distances = 144.16243194438272\n",
      "itération 12: distances = 146.97107403125213\n",
      "itération 13: distances = 140.25208999274975\n",
      "itération 14: distances = 138.13194556868353\n",
      "itération 15: distances = 114.06144624332067\n",
      "itération 16: distances = 95.60088182438182\n",
      "itération 17: distances = 76.33540458289607\n",
      "itération 18: distances = 83.86487244027607\n",
      "itération 19: distances = 76.90794948691965\n",
      "itération 20: distances = 52.78230962934866\n",
      "itération 21: distances = 59.40525342261252\n",
      "itération 22: distances = 48.1648590271643\n",
      "itération 23: distances = 42.49634390912523\n",
      "itération 24: distances = 45.56299503488745\n",
      "itération 25: distances = 29.17577613941029\n",
      "itération 26: distances = 25.58004938053762\n",
      "itération 27: distances = 23.56455993962044\n",
      "itération 28: distances = 26.440284796196675\n",
      "itération 29: distances = 26.460915624468406\n",
      "itération 30: distances = 15.84985563402038\n",
      "itération 31: distances = 7.366980065680288\n",
      "itération 32: distances = 9.56039940845584\n",
      "itération 33: distances = 6.7478306285302505\n",
      "itération 34: distances = 3.5009007876986713\n",
      "itération 35: distances = 1.3215820131606368\n",
      "\\La moyenne de IOU pour 9 anchors est : 0.84\n",
      "anchors: [6.07,2.64, 6.52,4.39, 8.78,3.53, 8.95,5.79, 11.07,7.76, 12.05,4.73, 14.32,9.14, 14.45,6.46, 15.25,11.92]\n"
     ]
    }
   ],
   "source": [
    "centroids, annotation_dims = anchors_gen(ANNS_DIR, ANCHORS_NUM, MAX_DIM)\n",
    "print('\\La moyenne de IOU pour', ANCHORS_NUM, 'anchors est :', '%0.2f' % avg_IOU(annotation_dims, centroids))\n",
    "print_anchors(centroids)"
   ]
  },
  {
   "cell_type": "code",
   "execution_count": null,
   "metadata": {},
   "outputs": [],
   "source": []
  }
 ],
 "metadata": {
  "kernelspec": {
   "display_name": "Python 3",
   "language": "python",
   "name": "python3"
  },
  "language_info": {
   "codemirror_mode": {
    "name": "ipython",
    "version": 3
   },
   "file_extension": ".py",
   "mimetype": "text/x-python",
   "name": "python",
   "nbconvert_exporter": "python",
   "pygments_lexer": "ipython3",
   "version": "3.7.3"
  }
 },
 "nbformat": 4,
 "nbformat_minor": 1
}
=======
{"nbformat":4,"nbformat_minor":0,"metadata":{"kernelspec":{"display_name":"Python 3","language":"python","name":"python3"},"language_info":{"codemirror_mode":{"name":"ipython","version":3},"file_extension":".py","mimetype":"text/x-python","name":"python","nbconvert_exporter":"python","pygments_lexer":"ipython3","version":"3.7.3"},"colab":{"name":"Yolo-V2_anchors_generator.ipynb","provenance":[]}},"cells":[{"cell_type":"code","metadata":{"id":"cFhNJufG9hln","executionInfo":{"status":"ok","timestamp":1601233987684,"user_tz":-120,"elapsed":532,"user":{"displayName":"ilyas moutawwakil","photoUrl":"","userId":"11714869551917393786"}},"outputId":"d1902de1-d85b-440c-8e24-23c054337f80","colab":{"base_uri":"https://localhost:8080/","height":51}},"source":["from google.colab import drive\n","drive.mount('/gdrive')\n","%cd \"/gdrive/My Drive/Colab Notebooks/plate-detector/src\""],"execution_count":1,"outputs":[{"output_type":"stream","text":["Drive already mounted at /gdrive; to attempt to forcibly remount, call drive.mount(\"/gdrive\", force_remount=True).\n","/gdrive/My Drive/Colab Notebooks/plate-detector/src\n"],"name":"stdout"}]},{"cell_type":"code","metadata":{"id":"EP5maTCj9aFI","executionInfo":{"status":"ok","timestamp":1601233987931,"user_tz":-120,"elapsed":749,"user":{"displayName":"ilyas moutawwakil","photoUrl":"","userId":"11714869551917393786"}}},"source":["ROOT_DIR = '/gdrive/My Drive/Colab Notebooks/plate-detector/'\n","DATA_DIR = ROOT_DIR + 'data/'\n","DATASET = 'GENERATED_DATASET/'\n","ANNS_DIR = DATA_DIR + DATASET + 'anns/'\n","IMGS_DIR = DATA_DIR + DATASET + 'imgs/'\n","ANCHORS_NUM = 9 # Pour YOLO_V2 on choisit 9\n","MAX_DIM = 320"],"execution_count":2,"outputs":[]},{"cell_type":"code","metadata":{"id":"TUNiISWh9aFP","executionInfo":{"status":"ok","timestamp":1601233988144,"user_tz":-120,"elapsed":938,"user":{"displayName":"ilyas moutawwakil","photoUrl":"","userId":"11714869551917393786"}}},"source":["from anchors_generator import *"],"execution_count":3,"outputs":[]},{"cell_type":"code","metadata":{"id":"g1Z4pz069aFT","executionInfo":{"status":"ok","timestamp":1601234141965,"user_tz":-120,"elapsed":518,"user":{"displayName":"ilyas moutawwakil","photoUrl":"","userId":"11714869551917393786"}},"outputId":"27df05db-ee1c-42a0-af5f-84cdf67c7877","colab":{"base_uri":"https://localhost:8080/","height":153}},"source":["centroids, annotation_dims = anchors_gen(ANNS_DIR, ANCHORS_NUM, MAX_DIM)\n","print('\\La moyenne de IOU pour', ANCHORS_NUM, 'anchors est :', '%0.2f' % avg_IOU(annotation_dims, centroids))\n","print_anchors(centroids)"],"execution_count":7,"outputs":[{"output_type":"stream","text":["itération 1: distances = 479.8233626714351\n","itération 2: distances = 38.83575374814268\n","itération 3: distances = 12.10641664425696\n","itération 4: distances = 6.960322218327388\n","itération 5: distances = 5.149588926069809\n","itération 6: distances = 1.7081963268302296\n","\\La moyenne de IOU pour 9 anchors est : 0.84\n","anchors: [6.25,2.36, 6.97,3.82, 8.87,5.87, 9.91,2.60, 10.27,3.42, 10.76,7.85, 11.76,4.57, 13.78,5.97, 14.58,10.87]\n"],"name":"stdout"}]},{"cell_type":"code","metadata":{"id":"Mla_pKqH9aFa","executionInfo":{"status":"ok","timestamp":1601233988365,"user_tz":-120,"elapsed":1135,"user":{"displayName":"ilyas moutawwakil","photoUrl":"","userId":"11714869551917393786"}}},"source":[""],"execution_count":4,"outputs":[]}]}
>>>>>>> 465d6c8f4f035fb2ee5ab96aa3f139dd0a62fcce
