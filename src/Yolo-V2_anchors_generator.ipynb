{
 "cells": [
  {
   "cell_type": "code",
   "execution_count": 1,
   "metadata": {},
   "outputs": [],
   "source": [
    "ROOT_DIR = 'C:/Users/utilisateur/Documents/GitHub/plate-detector/'\n",
    "DATA_DIR = ROOT_DIR + 'data/'\n",
    "DATASET = 'GENERATED_DATASET/'\n",
    "ANNS_DIR = DATA_DIR + DATASET + 'anns/'\n",
    "IMGS_DIR = DATA_DIR + DATASET + 'imgs/'\n",
    "ANCHORS_NUM = 9 # Pour YOLO_V2 on choisit 9\n",
    "MAX_DIM = 320"
   ]
  },
  {
   "cell_type": "code",
   "execution_count": 2,
   "metadata": {},
   "outputs": [],
   "source": [
    "from anchors_generator import *"
   ]
  },
  {
   "cell_type": "code",
   "execution_count": 3,
   "metadata": {},
   "outputs": [
    {
     "name": "stdout",
     "output_type": "stream",
     "text": [
      "itération 1: distances = 46208.125845578485\n",
      "itération 2: distances = 4299.874385860824\n",
      "itération 3: distances = 1882.9445301705396\n",
      "itération 4: distances = 1229.0033701695763\n",
      "itération 5: distances = 544.874049643236\n",
      "itération 6: distances = 388.3276217830273\n",
      "itération 7: distances = 276.51532240428526\n",
      "itération 8: distances = 233.83719903889144\n",
      "itération 9: distances = 193.9085249254996\n",
      "itération 10: distances = 154.9363532679176\n",
      "itération 11: distances = 144.16243194438272\n",
      "itération 12: distances = 146.97107403125213\n",
      "itération 13: distances = 140.25208999274975\n",
      "itération 14: distances = 138.13194556868353\n",
      "itération 15: distances = 114.06144624332067\n",
      "itération 16: distances = 95.60088182438182\n",
      "itération 17: distances = 76.33540458289607\n",
      "itération 18: distances = 83.86487244027607\n",
      "itération 19: distances = 76.90794948691965\n",
      "itération 20: distances = 52.78230962934866\n",
      "itération 21: distances = 59.40525342261252\n",
      "itération 22: distances = 48.1648590271643\n",
      "itération 23: distances = 42.49634390912523\n",
      "itération 24: distances = 45.56299503488745\n",
      "itération 25: distances = 29.17577613941029\n",
      "itération 26: distances = 25.58004938053762\n",
      "itération 27: distances = 23.56455993962044\n",
      "itération 28: distances = 26.440284796196675\n",
      "itération 29: distances = 26.460915624468406\n",
      "itération 30: distances = 15.84985563402038\n",
      "itération 31: distances = 7.366980065680288\n",
      "itération 32: distances = 9.56039940845584\n",
      "itération 33: distances = 6.7478306285302505\n",
      "itération 34: distances = 3.5009007876986713\n",
      "itération 35: distances = 1.3215820131606368\n",
      "\\La moyenne de IOU pour 9 anchors est : 0.84\n",
      "anchors: [6.07,2.64, 6.52,4.39, 8.78,3.53, 8.95,5.79, 11.07,7.76, 12.05,4.73, 14.32,9.14, 14.45,6.46, 15.25,11.92]\n"
     ]
    }
   ],
   "source": [
    "centroids, annotation_dims = anchors_gen(ANNS_DIR, ANCHORS_NUM, MAX_DIM)\n",
    "print('\\La moyenne de IOU pour', ANCHORS_NUM, 'anchors est :', '%0.2f' % avg_IOU(annotation_dims, centroids))\n",
    "print_anchors(centroids)"
   ]
  },
  {
   "cell_type": "code",
   "execution_count": null,
   "metadata": {},
   "outputs": [],
   "source": []
  }
 ],
 "metadata": {
  "kernelspec": {
   "display_name": "Python 3",
   "language": "python",
   "name": "python3"
  },
  "language_info": {
   "codemirror_mode": {
    "name": "ipython",
    "version": 3
   },
   "file_extension": ".py",
   "mimetype": "text/x-python",
   "name": "python",
   "nbconvert_exporter": "python",
   "pygments_lexer": "ipython3",
   "version": "3.7.3"
  }
 },
 "nbformat": 4,
 "nbformat_minor": 1
}
