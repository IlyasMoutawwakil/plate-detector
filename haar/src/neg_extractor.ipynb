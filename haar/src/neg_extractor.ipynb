{
 "cells": [
  {
   "cell_type": "code",
   "execution_count": 4,
   "metadata": {},
   "outputs": [],
   "source": [
    "import os\n",
    "import sys\n",
    "import cv2\n",
    "import numpy\n",
    "\n",
    "ARCHIVE_INPUT = '/root/jupyter/Deep_Learning/negs/'\n",
    "ARCHIVE_OUTPUT = '/root/jupyter/Haar_Cascade/neg/'"
   ]
  },
  {
   "cell_type": "code",
   "execution_count": 7,
   "metadata": {},
   "outputs": [],
   "source": [
    "def create_neg():\n",
    "    for img in os.listdir(ARCHIVE_INPUT):\n",
    "        line = file_type+'/'+img+'\\n'\n",
    "        with open('/root/jupyter/Haar_Cascade/neg.txt','a') as f:\n",
    "            f.write(line)\n",
    "\n",
    "def extract_neg(archive_input, archive_output):\n",
    "    '''A function that will index our backgrounds.\n",
    "    Was supposed to be used on a 36Gb tar file xD'''\n",
    "    index = 0\n",
    "    for img in os.listdir(archive_input) :\n",
    "        im = cv2.imread(archive_input + '/' + img)\n",
    "        fname = archive_output + '/' + '{:08}.jpg'.format(index)\n",
    "        cv2.imwrite(fname, im)\n",
    "        index += 1"
   ]
  },
  {
   "cell_type": "code",
   "execution_count": 8,
   "metadata": {},
   "outputs": [],
   "source": [
    "if __name__ == \"__main__\":\n",
    "    extract_neg(ARCHIVE_INPUT, ARCHIVE_OUTPUT)\n",
    "    create_neg()"
   ]
  },
  {
   "cell_type": "code",
   "execution_count": null,
   "metadata": {},
   "outputs": [],
   "source": []
  }
 ],
 "metadata": {
  "kernelspec": {
   "display_name": "Python 3",
   "language": "python",
   "name": "python3"
  },
  "language_info": {
   "codemirror_mode": {
    "name": "ipython",
    "version": 3
   },
   "file_extension": ".py",
   "mimetype": "text/x-python",
   "name": "python",
   "nbconvert_exporter": "python",
   "pygments_lexer": "ipython3",
   "version": "3.6.7"
  }
 },
 "nbformat": 4,
 "nbformat_minor": 2
}
